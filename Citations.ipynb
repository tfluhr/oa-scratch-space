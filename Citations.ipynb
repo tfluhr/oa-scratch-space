{
 "cells": [
  {
   "cell_type": "raw",
   "id": "67cf1ab9",
   "metadata": {},
   "source": [
    "---\n",
    "title: BALKj ARGH!@\n",
    "description: get works cited by an article\n",
    "show-code: True\n",
    "params:\n",
    "#    doi:\n",
    "#        input: text\n",
    "#        label: Enter a DOI, OpenAlex, MAG, PMIT or PMCID\n",
    "#        value: https://openalex.org/W2000785263\n",
    "    output_dir: \n",
    "        output: dir\n",
    "---"
   ]
  },
  {
   "cell_type": "code",
   "execution_count": null,
   "id": "fdbf1e4b",
   "metadata": {},
   "outputs": [],
   "source": [
    "output_dir = '/tmp/citations/'"
   ]
  },
  {
   "cell_type": "code",
   "execution_count": null,
   "id": "6210b37c",
   "metadata": {},
   "outputs": [],
   "source": [
    "import json, requests, urllib, os\n",
    "from datetime import datetime, date"
   ]
  },
  {
   "cell_type": "code",
   "execution_count": null,
   "id": "28979281",
   "metadata": {},
   "outputs": [],
   "source": [
    "doi = \"https://openalex.org/W2000785269\""
   ]
  },
  {
   "cell_type": "code",
   "execution_count": null,
   "id": "2bc80084",
   "metadata": {},
   "outputs": [],
   "source": [
    "def get_json(doi):\n",
    "    ## Construct API Call\n",
    "    #doi = input(\"Enter a DOI, OpenAlex, MAG, PMID, or PMCID: \")\n",
    "    apicall = ('https://api.openalex.org/works/{}'.format(doi))\n",
    "    #  Open api call url and assign to variable\n",
    "    dirtywork = urllib.request.urlopen(apicall)\n",
    "    #  Convert to json\n",
    "    work = json.load(dirtywork)\n",
    "    return work"
   ]
  },
  {
   "cell_type": "code",
   "execution_count": null,
   "id": "e48403e2",
   "metadata": {},
   "outputs": [],
   "source": [
    "work = get_json(doi)"
   ]
  },
  {
   "cell_type": "code",
   "execution_count": null,
   "id": "9135b6c5",
   "metadata": {},
   "outputs": [],
   "source": [
    "fname = (work['id'].replace(\"https://openalex.org/\", \"\"))"
   ]
  },
  {
   "cell_type": "code",
   "execution_count": null,
   "id": "0a351cdf",
   "metadata": {},
   "outputs": [],
   "source": [
    "def get_citations(work):\n",
    "    \n",
    "        #fname = work['id'].replace(\"https://openalex.org/\",\"\")\n",
    "    reference_list = []\n",
    "    for ref in work['referenced_works']:\n",
    "        reference_list.append(ref)\n",
    "    return reference_list\n"
   ]
  },
  {
   "cell_type": "code",
   "execution_count": null,
   "id": "c76f7bf6",
   "metadata": {},
   "outputs": [],
   "source": [
    "referenced_works = get_citations(work)"
   ]
  },
  {
   "cell_type": "code",
   "execution_count": null,
   "id": "679df94b",
   "metadata": {},
   "outputs": [],
   "source": [
    "print(referenced_works)"
   ]
  },
  {
   "cell_type": "code",
   "execution_count": null,
   "id": "7dc3e358",
   "metadata": {},
   "outputs": [],
   "source": [
    "def bibtext_oa_conversion(oaid):\n",
    "\n",
    "    ## call the OpenAlex api for a JSON of the work metadata\n",
    "    apicall = ('https://api.openalex.org/works/{}'.format(oaid))\n",
    "    f = urllib.request.urlopen(apicall)\n",
    "    oa_work = json.load(f)\n",
    "    oa_work_pub_date = date.fromisoformat(oa_work['publication_date'])\n",
    "\n",
    "    ### MAPPING DATA FROM OPENALEX TO BIBTEX FIELDS ###\n",
    "\n",
    "    ## \"type\" field value error handling\n",
    "    def is_in_bibtex_entry(my_key):\n",
    "        for key, val in bibtex_entry_type_map.items():\n",
    "            if my_key == None:\n",
    "                return 'null'\n",
    "            elif my_key in key:\n",
    "                return val\n",
    "    ## set up \"author\" field value\n",
    "    def get_author(author_field_position):\n",
    "        author_field = ''\n",
    "        author_list = []\n",
    "        if oa_work['authorships']:\n",
    "            if author_field_position == 'citekey':\n",
    "                author_field = str(oa_work['authorships'][0]['author']['display_name'])\n",
    "                return author_field\n",
    "            else:\n",
    "                for i in oa_work['authorships']:\n",
    "                    author_list.append(i['author']['display_name'])\n",
    "                for j in range(0, len(author_list) - 1):\n",
    "                    author_field += str(author_list[j]) + \" and \"\n",
    "                author_field += author_list[-1]\n",
    "                return author_field\n",
    "        else:\n",
    "            author_field == 'null'\n",
    "            return author_field\n",
    "\n",
    "    citekey_author = 'citekey'\n",
    "    citation_authors = 'citation'\n",
    "\n",
    "    ## BibTeX entry \"type\" mapping. OpenAlex uses the Crossref controlled vocabulary for works \"types\", but this field is\n",
    "    ## under development by the OpenAlex team. This is my best approximation for a crosswalk between\n",
    "    ## BibTeX and OpenAlex (Crossref) works \"types\".\n",
    "    bibtex_entry_type_map = {'journal-article': 'article',\n",
    "                             ('book-section', 'monograph'): 'book',\n",
    "                             ('book-track', 'book-part', 'book-chapter', 'book-series'): 'inbook',\n",
    "                             ('proceedings-article', 'proceedings-series'): 'inproceedings',\n",
    "                             'dissertation': 'phdthesis'}\n",
    "\n",
    "\n",
    "    ## check for the presence of page numbers and set up the \"page numbers\" fields\n",
    "    oa_first_page = oa_work['biblio']['first_page']\n",
    "    oa_last_page = oa_work['biblio']['last_page']\n",
    "    oa_page_numbers_draft = str(oa_first_page) + ', ' + str(oa_last_page)\n",
    "    oa_page_numbers = ''\n",
    "\n",
    "    if oa_page_numbers_draft == 'None, None':\n",
    "        oa_page_numbers = 'null'\n",
    "    else:\n",
    "        oa_page_numbers = oa_page_numbers_draft\n",
    "\n",
    "    ## BibTeX Dictionary of mapped values\n",
    "    bibtex_mapping = {'title': oa_work['title'],\n",
    "                      'author': get_author(citation_authors),\n",
    "                      'publisher': oa_work['host_venue']['publisher'],\n",
    "                      'doi': oa_work['doi'],\n",
    "                      'issn': oa_work['host_venue']['issn_l'],\n",
    "                      'journal': oa_work['host_venue']['display_name'],\n",
    "                      'month': oa_work_pub_date.strftime(\"%b\").lower(),\n",
    "                      'number': oa_work['biblio']['issue'],\n",
    "                      'pages': oa_page_numbers,\n",
    "                      'type': is_in_bibtex_entry(oa_work['type']),\n",
    "                      'url': oa_work['host_venue']['url'],\n",
    "                      'volume': oa_work['biblio']['volume'],\n",
    "                      'year': oa_work['publication_year'],\n",
    "                      'note' : oa_work['id']}\n",
    "\n",
    "\n",
    "    ### CONSTRUCTING THE BIBTEX CITATION ###\n",
    "\n",
    "    ## set up the citation key and pretext\n",
    "\n",
    "    if get_author(citekey_author):\n",
    "        bibtex_citekey = get_author(citekey_author).split()[-1] + \\\n",
    "                         str(oa_work['publication_year']) + \\\n",
    "                         str((oa_work['title']).split()[0])\n",
    "    else:\n",
    "        bibtex_citekey = str(oa_work['title'].split()[0]) + \\\n",
    "                     str(oa_work['publication_year']) + \\\n",
    "                     str((oa_work['title']).split()[-1])\n",
    "\n",
    "    bibtex_entrytype = (oa_work['type'])\n",
    "    bibtex_pretext = '@' + str(is_in_bibtex_entry(bibtex_entrytype)) + '{' + bibtex_citekey + \",\\n\"\n",
    "    bibtex_citation_str = bibtex_pretext\n",
    "\n",
    "    ## error handling for missing data in the OpenAlex JSON and\n",
    "    ## constructing the BibTeX citation string\n",
    "    for i, j in bibtex_mapping.items():\n",
    "        if i == None:\n",
    "            continue\n",
    "        elif j == None or j == 'null':\n",
    "            continue\n",
    "        else:\n",
    "            line = str(i) + \" = \" + '{' + str(j) + \"},\\n\"\n",
    "            bibtex_citation_str += line\n",
    "    bibtex_citation_str += '}'\n",
    "\n",
    "    ## return the completed BibTeX citation as a string\n",
    "    return bibtex_citation_str\n",
    "\n",
    "now = datetime.now()\n",
    "now = now.strftime('%d%m%y%H%M%S')\n",
    "#print(now)\n",
    "#file = open(output_dir + fname + \".bib\", 'a', encoding='utf-8')"
   ]
  },
  {
   "cell_type": "code",
   "execution_count": null,
   "id": "729d1c73",
   "metadata": {},
   "outputs": [],
   "source": [
    "oarefs = get_citations(work)\n",
    "for i in oarefs:\n",
    "    print(i)"
   ]
  },
  {
   "cell_type": "code",
   "execution_count": null,
   "id": "489a6dc4",
   "metadata": {},
   "outputs": [],
   "source": [
    "## print and write to file all BibTeX citations\n",
    "with open (os.path.join(output_dir + \"test.bib\"), 'w', encoding='utf-8') as my_file:\n",
    "    print(my_file)\n",
    "    print(output_dir)\n",
    "    for i in oarefs:\n",
    "        #bibtex_citation = bibtext_oa_conversion(i)\n",
    "        #print(bibtex_citation + '\\n')\n",
    "        #my_file.writelines(bibtex_citation + \"\\n\\n\")\n",
    "        my_file.write(i + \"\\n\\n\")"
   ]
  },
  {
   "cell_type": "code",
   "execution_count": null,
   "id": "242580f9",
   "metadata": {},
   "outputs": [],
   "source": []
  }
 ],
 "metadata": {
  "kernelspec": {
   "display_name": "Python 3 (ipykernel)",
   "language": "python",
   "name": "python3"
  },
  "language_info": {
   "codemirror_mode": {
    "name": "ipython",
    "version": 3
   },
   "file_extension": ".py",
   "mimetype": "text/x-python",
   "name": "python",
   "nbconvert_exporter": "python",
   "pygments_lexer": "ipython3",
   "version": "3.9.5"
  }
 },
 "nbformat": 4,
 "nbformat_minor": 5
}
